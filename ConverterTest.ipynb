{
 "cells": [
  {
   "cell_type": "code",
   "execution_count": 1,
   "metadata": {
    "collapsed": true
   },
   "outputs": [
    {
     "name": "stdout",
     "output_type": "stream",
     "text": [
      "Outputting csv files in to csv_files\n",
      "Processing 4_Alan_Walker_Faded.mid in to 4_Alan_Walker_Faded.csv\n",
      "Processing 6_InDaClub.mid in to 6_InDaClub.csv\n",
      "Processing Accel World - Bye Bye.mid in to Accel World - Bye Bye.csv\n",
      "Processing brahms_opus117_1.mid in to brahms_opus117_1.csv\n",
      "Processing Undertale - Megalovania.mid in to Undertale - Megalovania.csv\n",
      "Done creating csvs!\n"
     ]
    },
    {
     "name": "stderr",
     "output_type": "stream",
     "text": [
      "C:\\Users\\preis\\Documents\\FT\\ft_midi_project\\venv\\lib\\site-packages\\music21\\midi\\translate.py:790: TranslateWarning: Unable to determine instrument from <music21.midi.MidiEvent PROGRAM_CHANGE, track=11, channel=10, data=8>; getting generic UnpitchedPercussion\n",
      "  warnings.warn(\n",
      "C:\\Users\\preis\\Documents\\FT\\ft_midi_project\\venv\\lib\\site-packages\\music21\\midi\\translate.py:785: TranslateWarning: Unable to determine instrument from <music21.midi.MidiEvent SEQUENCE_TRACK_NAME, track=5, channel=None, data=b'Copyright \\xa9 2010 by Bernd Krueger'>; getting generic Instrument\n",
      "  warnings.warn(\n"
     ]
    }
   ],
   "source": [
    "import MidiConverter\n",
    "\n",
    "MidiConverter.convert(\"data\", \"csv_files\")"
   ]
  }
 ],
 "metadata": {
  "kernelspec": {
   "display_name": "Python 3",
   "language": "python",
   "name": "python3"
  },
  "language_info": {
   "codemirror_mode": {
    "name": "ipython",
    "version": 2
   },
   "file_extension": ".py",
   "mimetype": "text/x-python",
   "name": "python",
   "nbconvert_exporter": "python",
   "pygments_lexer": "ipython2",
   "version": "2.7.6"
  }
 },
 "nbformat": 4,
 "nbformat_minor": 0
}